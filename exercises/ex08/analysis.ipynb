{
 "cells": [
  {
   "cell_type": "markdown",
   "metadata": {},
   "source": [
    "# Analysis for Continuous Improvement\n",
    "\n",
    "Author Name: Mason Boyles\n",
    "\n",
    "9-digit PID: 730481220\n",
    "\n",
    "Continuous Improvement embraces a belief there is _always room to make things better_. It is a mindset and process we value and practice in this course. In this assignment, you are able to practice continuous improvement and contribute to the design ideas of the course.\n",
    "\n",
    "## Brainstorming Ideas\n",
    "\n",
    "Reflect on your personal experiences and observations in COMP110 and **brainstorm modifications to the course that _create value_ beyond its current design**. When brainstorming, try not to be critical of the ideas you come up with regarding scale, stakeholders impacted, or for any other reasons. In the markdown cell below, brainstorm 3 to 5 ideas you think would create value for you.\n",
    "\n",
    "Each brainstormed idea should state a. the suggested change or addition, b. what the expected value created, and c. which specific stakeholders would benefit.  If helpful, expand on the following template \"The course should (state idea here) because it will (state value created here) for (insert stakeholders here).\"\n",
    "\n",
    "Example A: \"The course should use only examples from psychology experiments because it will be more relevant for students who are psychology majors.\"\n",
    "\n",
    "Example B: \"The course should not have post-lesson questions because they are not useful for most students in the class.\""
   ]
  },
  {
   "cell_type": "markdown",
   "metadata": {},
   "source": [
    "### Part 1. Creative Ideation\n",
    "\n",
    "1. The course should include a condensed version of lectures because it will make it easier to stay focused for students who already have some experience with the material.\n",
    "2. The course should allow extra tries on the lesson questions because it will create less pressure on small assignments for all students in the class.\n",
    "3. The course should make class in person on tuesdays because it will help keep a good schedule for students have bad time management skills.\n",
    "4. The course should talk about the implications of the python we learn because it will make lessons more relatable for students who are majoring in things other than compsci.\n",
    "5. The course should have colaborative projects because it will help students learn to work on projects in a group setting and meet new people."
   ]
  },
  {
   "cell_type": "markdown",
   "metadata": {},
   "source": [
    "## Connecting with Available Data\n",
    "\n",
    "The data you have available for this analysis is limited to the anonymized course survey you and your peers filled out a few weeks ago. The data is found in the `survey.csv` file in this exercise directory. Each row represents an individual survey response. Each column has a description which can be found on the project write-up here: <https://22s.comp110.com/exercises/ex08.html>\n",
    "\n",
    "Review the list of available data and identify which one of your ideas _does not_, or is _least likely to_, have relevant data to support the analysis of your idea to create value. In the box below, identify which of your ideas lacks data and suggest how we might be able to collect this data in the future. One aspect of _continuous improvement_ is trying to avoid \"tunnel vision\" where possible improvements are not considered because there is no data available to analyze it. Identifying new data sources can unlock improvements!"
   ]
  },
  {
   "cell_type": "markdown",
   "metadata": {},
   "source": [
    "### Part 2. Identifying Missing Data\n",
    "\n",
    "1. Idea without sufficient data to analyze:  \n",
    "The course should allow extra tries on the lesson questions because it will create less pressure on small assignments for all students in the class.\n",
    "2. Suggestion for how to collect data to support this idea in the future:   \n",
    "Ask: (1-7) Do the lesson comprehension questions cause extra stress? (not much stress: 1, a lot of stress: 7)"
   ]
  },
  {
   "cell_type": "markdown",
   "metadata": {},
   "source": [
    "## Choosing an Idea to Analyze\n",
    "\n",
    "Consider those of your ideas which _do_ seem likely to have relevant data to analyze. If none of your ideas do, spend a few minutes and brainstorm another idea or two with the added connection of data available on hand and add those ideas to your brainstormed ideas list.\n",
    "\n",
    "Select the one idea which you believe is _most valuable_ to analyze relative to the others and has data to support the analysis of. In the markdown cell for Part 3 below, identify the idea you are exploring and articulate why you believe it is most valuable (e.g. widest impact, biggest opportunity for improvement, simplest change for significant improvement, and so on)."
   ]
  },
  {
   "cell_type": "markdown",
   "metadata": {},
   "source": [
    "### Part 3. Choosing Your Analysis\n",
    "\n",
    "1. Idea to analyze with available data:  \n",
    "The course should include a condensed version of lectures because it will make it easier to stay focused for students who already have some experience with the material.\n",
    "\n",
    "2. This idea is more valuable than the others brainstormed because:  \n",
    "This was something that I had thought about even before this project. Sometimes lessons feel like they are drawn out and could be taught in less time than the lessons are for those who understand the concept to an extent but may not understand some details like how the memory diagrams work. Also I feel like this could well backed up by the data in the survey.\n"
   ]
  },
  {
   "cell_type": "markdown",
   "metadata": {},
   "source": [
    "## Your Analysis\n",
    "\n",
    "Before you begin analysis, a reminder that we do not expect the data to support everyone's ideas and you can complete this exercise for full credit even if the data does not clearly support your suggestion or even completely refutes it. What we are looking for is a logical attempt to explore the data using the techniques you have learned up until now in a way that _either_ supports, refutes, or does not have a clear result and then to reflect on your findings after the analysis.\n",
    "\n",
    "Using the utility functions you created for the previous exercise, you will continue with your analysis in the following part. Before you begin, refer to the rubric on the technical expectations of this section in the exercise write-up.\n",
    "\n",
    "In this section, you are expected to interleave code and markdown cells such that for each step of your analysis you are starting with an English description of what you are planning to do next in a markdown cell, followed by a Python cell that performs that step of the analysis."
   ]
  },
  {
   "cell_type": "markdown",
   "metadata": {},
   "source": [
    "### Part 4. Analysis\n",
    "\n",
    "We begin by changing some settings in the notebook to automatically reload changes to imported files."
   ]
  },
  {
   "cell_type": "code",
   "execution_count": 260,
   "metadata": {},
   "outputs": [],
   "source": [
    "%reload_ext autoreload\n",
    "%autoreload 2"
   ]
  },
  {
   "cell_type": "markdown",
   "metadata": {},
   "source": [
    "We continue by importing the helper functions from `data_utils`."
   ]
  },
  {
   "cell_type": "code",
   "execution_count": 261,
   "metadata": {},
   "outputs": [],
   "source": [
    "from data_utils import read_csv_rows\n",
    "from data_utils import head\n",
    "from data_utils import columnar\n",
    "from data_utils import select\n",
    "from data_utils import count\n",
    "from data_utils import average_number\n",
    "from data_utils import experience_quantified_as_numbers"
   ]
  },
  {
   "cell_type": "markdown",
   "metadata": {},
   "source": [
    "Next, ... (you take it from here and add additional code and markdown cells to read in the CSV file and process it as needed)"
   ]
  },
  {
   "cell_type": "code",
   "execution_count": 262,
   "metadata": {},
   "outputs": [],
   "source": [
    "SURVEY_DATA_CSV_FILE_PATH: str = \"../../data/survey.csv\""
   ]
  },
  {
   "cell_type": "markdown",
   "metadata": {},
   "source": [
    "## First I will do a few processes to turn the CSV file into a column oriented table"
   ]
  },
  {
   "cell_type": "markdown",
   "metadata": {},
   "source": [
    "To start I will read it as a row oriented table"
   ]
  },
  {
   "cell_type": "code",
   "execution_count": 263,
   "metadata": {},
   "outputs": [],
   "source": [
    "survey_data_row: list[dict[str, str]] = read_csv_rows(\"../../data/survey.csv\")"
   ]
  },
  {
   "cell_type": "markdown",
   "metadata": {},
   "source": [
    "Then transform it into a column oriented table"
   ]
  },
  {
   "cell_type": "code",
   "execution_count": 264,
   "metadata": {},
   "outputs": [],
   "source": [
    "survey_data_column: dict[str, list[str]] = columnar(survey_data_row)"
   ]
  },
  {
   "cell_type": "markdown",
   "metadata": {},
   "source": [
    "Now I will select the columns we really want to work with:  \n",
    "I want to use the prior experience column to show that a considerable number of students already have experience going into the class"
   ]
  },
  {
   "cell_type": "code",
   "execution_count": 265,
   "metadata": {},
   "outputs": [],
   "source": [
    "necessary_columns: dict[str, list[str]] = select(survey_data_column, [\"row\", \"prior_exp\"])"
   ]
  },
  {
   "cell_type": "markdown",
   "metadata": {},
   "source": [
    "## To better understand how the data is set up, I will now show the first 10 rows of this table"
   ]
  },
  {
   "cell_type": "code",
   "execution_count": 266,
   "metadata": {},
   "outputs": [
    {
     "data": {
      "text/html": [
       "<table>\n",
       "<thead>\n",
       "<tr><th style=\"text-align: right;\">  row</th><th>prior_exp                   </th></tr>\n",
       "</thead>\n",
       "<tbody>\n",
       "<tr><td style=\"text-align: right;\">    0</td><td>7-12 months                 </td></tr>\n",
       "<tr><td style=\"text-align: right;\">    1</td><td>None to less than one month!</td></tr>\n",
       "<tr><td style=\"text-align: right;\">    2</td><td>None to less than one month!</td></tr>\n",
       "<tr><td style=\"text-align: right;\">    3</td><td>2-6 months                  </td></tr>\n",
       "<tr><td style=\"text-align: right;\">    4</td><td>None to less than one month!</td></tr>\n",
       "<tr><td style=\"text-align: right;\">    5</td><td>2-6 months                  </td></tr>\n",
       "<tr><td style=\"text-align: right;\">    6</td><td>2-6 months                  </td></tr>\n",
       "<tr><td style=\"text-align: right;\">    7</td><td>None to less than one month!</td></tr>\n",
       "<tr><td style=\"text-align: right;\">    8</td><td>None to less than one month!</td></tr>\n",
       "<tr><td style=\"text-align: right;\">    9</td><td>None to less than one month!</td></tr>\n",
       "<tr><td style=\"text-align: right;\">   10</td><td>2-6 months                  </td></tr>\n",
       "</tbody>\n",
       "</table>"
      ],
      "text/plain": [
       "'<table>\\n<thead>\\n<tr><th style=\"text-align: right;\">  row</th><th>prior_exp                   </th></tr>\\n</thead>\\n<tbody>\\n<tr><td style=\"text-align: right;\">    0</td><td>7-12 months                 </td></tr>\\n<tr><td style=\"text-align: right;\">    1</td><td>None to less than one month!</td></tr>\\n<tr><td style=\"text-align: right;\">    2</td><td>None to less than one month!</td></tr>\\n<tr><td style=\"text-align: right;\">    3</td><td>2-6 months                  </td></tr>\\n<tr><td style=\"text-align: right;\">    4</td><td>None to less than one month!</td></tr>\\n<tr><td style=\"text-align: right;\">    5</td><td>2-6 months                  </td></tr>\\n<tr><td style=\"text-align: right;\">    6</td><td>2-6 months                  </td></tr>\\n<tr><td style=\"text-align: right;\">    7</td><td>None to less than one month!</td></tr>\\n<tr><td style=\"text-align: right;\">    8</td><td>None to less than one month!</td></tr>\\n<tr><td style=\"text-align: right;\">    9</td><td>None to less than one month!</td></tr>\\n<tr><td style=\"text-align: right;\">   10</td><td>2-6 months                  </td></tr>\\n</tbody>\\n</table>'"
      ]
     },
     "execution_count": 266,
     "metadata": {},
     "output_type": "execute_result"
    }
   ],
   "source": [
    "first_10_rows: dict[str, list[str]] = head(necessary_columns, 11)\n",
    "from tabulate import tabulate\n",
    "tabulate(first_10_rows, first_10_rows.keys(), \"html\")"
   ]
  },
  {
   "cell_type": "markdown",
   "metadata": {},
   "source": [
    "## Now lets show the frequency of experience levels in a chart!"
   ]
  },
  {
   "cell_type": "markdown",
   "metadata": {},
   "source": [
    "First we will count the number of people in each category as well as count more broadly if they have any experience vs if they don't"
   ]
  },
  {
   "cell_type": "code",
   "execution_count": 267,
   "metadata": {},
   "outputs": [],
   "source": [
    "prior_experience: dict[str, int] = count(necessary_columns[\"prior_exp\"])\n",
    "experience_vs_no_experience: dict[str, int] = {}\n",
    "experience_vs_no_experience[\"No Experience\"] = prior_experience[\"None to less than one month!\"]\n",
    "experience_vs_no_experience[\"At least 2 months\"] = prior_experience[\"2-6 months\"] + prior_experience[\"7-12 months\"] + prior_experience[\"1-2 years\"] + prior_experience[\"Over 2 years\"]\n",
    "\n"
   ]
  },
  {
   "cell_type": "markdown",
   "metadata": {},
   "source": [
    "Then we can plot these dictionaries as bar charts!"
   ]
  },
  {
   "cell_type": "code",
   "execution_count": 268,
   "metadata": {},
   "outputs": [
    {
     "data": {
      "image/png": "[encoded data removed]",
      "text/plain": [
       "<Figure size 432x288 with 1 Axes>"
      ]
     },
     "metadata": {
      "needs_background": "light"
     },
     "output_type": "display_data"
    },
    {
     "data": {
      "image/png": "[encoded data removed]",
      "text/plain": [
       "<Figure size 432x288 with 1 Axes>"
      ]
     },
     "metadata": {
      "needs_background": "light"
     },
     "output_type": "display_data"
    }
   ],
   "source": [
    "import matplotlib.pyplot as plt\n",
    "import numpy as np\n",
    "import matplotlib.pyplot as plt\n",
    "\n",
    "labels = ['<1 month', '2-6 months', '7-12 months', '1-2 years', 'Over 2 years']\n",
    "y_pos = [0, 1, 2, 3, 4]  # the order the labels will be arranged in bar chart\n",
    "performance = [prior_experience[\"None to less than one month!\"], prior_experience[\"2-6 months\"], prior_experience[\"7-12 months\"], prior_experience[\"1-2 years\"], prior_experience[\"Over 2 years\"]]\n",
    "\n",
    "plt.bar(y_pos, performance, align='center', alpha=0.5)\n",
    "plt.xticks(y_pos, labels)\n",
    "plt.ylabel('Number of Students')\n",
    "plt.title('Amounts of experience')\n",
    "\n",
    "plt.show()\n",
    "\n",
    "import matplotlib.pyplot as plt2\n",
    "import numpy as np\n",
    "import matplotlib.pyplot as plt2\n",
    "\n",
    "labels2 = ['No experience', 'Experience']\n",
    "y_pos2 = [0, 1]  # the order the labels will be arranged in bar chart\n",
    "performance2 = [prior_experience[\"None to less than one month!\"], experience_vs_no_experience[\"At least 2 months\"]]\n",
    "\n",
    "plt2.bar(y_pos2, performance2, align='center', alpha=0.5)\n",
    "plt2.xticks(y_pos2, labels2)\n",
    "plt2.ylabel('Number of Students')\n",
    "plt2.title('Experience vs No Experience')\n",
    "\n",
    "plt2.show()"
   ]
  },
  {
   "cell_type": "markdown",
   "metadata": {},
   "source": [
    "This gives us a good visualization of the different experience levels of students going into the class"
   ]
  },
  {
   "cell_type": "markdown",
   "metadata": {},
   "source": [
    "## Next, I will find the percentage of people who have prior experience"
   ]
  },
  {
   "cell_type": "code",
   "execution_count": 269,
   "metadata": {},
   "outputs": [
    {
     "name": "stdout",
     "output_type": "stream",
     "text": [
      "40.483870967741936\n"
     ]
    }
   ],
   "source": [
    "percentage_with_experience: float = 100 * experience_vs_no_experience[\"At least 2 months\"] / (experience_vs_no_experience[\"At least 2 months\"] + experience_vs_no_experience[\"No Experience\"])\n",
    "print(percentage_with_experience)"
   ]
  },
  {
   "cell_type": "markdown",
   "metadata": {},
   "source": [
    "This shows that 40.5 % of the class has prior experience"
   ]
  },
  {
   "cell_type": "markdown",
   "metadata": {},
   "source": [
    "## Finally I want to find the average months of experience"
   ]
  },
  {
   "cell_type": "markdown",
   "metadata": {},
   "source": [
    "First we will need to quantify the different responses as a number of months experience  \n",
    "I'll assign `None to less than one month` = 0 months, `2-6 months` = 4 months, `7-12 months` = 9 months, `1-2 years` = 18 months, `over 2 years` = 24 months"
   ]
  },
  {
   "cell_type": "markdown",
   "metadata": {},
   "source": [
    "I will make use of my helper function: `experience_quantified_as_numbers` to create a list of everyone's experience displayed as a number of months"
   ]
  },
  {
   "cell_type": "code",
   "execution_count": 270,
   "metadata": {},
   "outputs": [],
   "source": [
    "experience_numbers: list[float] = experience_quantified_as_numbers(necessary_columns[\"prior_exp\"])"
   ]
  },
  {
   "cell_type": "markdown",
   "metadata": {},
   "source": [
    "Then I will average these using my helper function: `average_number`"
   ]
  },
  {
   "cell_type": "code",
   "execution_count": 271,
   "metadata": {},
   "outputs": [
    {
     "name": "stdout",
     "output_type": "stream",
     "text": [
      "3.4080645161290324\n"
     ]
    }
   ],
   "source": [
    "average_months_of_experience: float = average_number(experience_numbers)\n",
    "print(average_months_of_experience)"
   ]
  },
  {
   "cell_type": "markdown",
   "metadata": {},
   "source": [
    "With that I get that the average months of experience is about 3.4 months"
   ]
  },
  {
   "cell_type": "markdown",
   "metadata": {},
   "source": [
    "## Conclusion\n",
    "\n",
    "In the following markdown cell, write a reflective conclusion given the analysis you performed and identify recommendations.\n",
    "\n",
    "If your analysis of the data supports your idea, state your recommendation for the change and summarize the data analysys results you found which support it. Additionally, describe any extensions or refinements to this idea which might be explored further. Finally, discuss the potential costs, trade-offs, or stakeholders who may be negatively impacted by this proposed change.\n",
    "\n",
    "If your analysis of the data is inconclusive, summarize why your data analysis results were inconclusive in the support of your idea. Additionally, describe what experimental idea implementation or additional data collection might help build more confidence in assessing your idea. Finally, discuss the potential costs, trade-offs, or stakeholders who may be negatively impacted by experimenting with your idea.\n",
    "\n",
    "Finally, if your analysis of the data does not support it, summarize your data analysis results and why it refutes your idea. Discuss the potential costs, trade-offs, or stakeholders who may be negatively impacted by this proposed change. If you disagree with the validity of the findings, describe why your idea still makes sense to implement and what alternative data would better support it. If you agree with the validity of the data analysis, describe what alternate ideas or extensions you would explore instead. "
   ]
  },
  {
   "cell_type": "markdown",
   "metadata": {},
   "source": [
    "### Part 5. Conclusion\n",
    "\n"
   ]
  },
  {
   "cell_type": "markdown",
   "metadata": {},
   "source": [
    "My analysis mostly supports my idea. My claim was that there should be a shortened version of lectures because I feel like lectures move too slow for those who already have experience with programming. In my analysis I showed that almost half of the students have prior experience and that on average students have 3.4 months of experience going into the course. This shows that a considerable proportion of students are already ahead of the course and thus I conclude that a considerable number are in the same situation as me and feel like lessons move too slow at times. One shortcoming to my research is that I don't actually have any data to support that other experienced programmers feel the same way. I am just making the assumption based on my own annecdotal data. One potential issue with my idea is that this would require the professor to do much more work. It is also possible that these shortened lessons would make students miss out on valuable information. A refinement to this idea could be a more accelerated version of comp 110 specifically for those who have some experience going into college."
   ]
  }
 ],
 "metadata": {
  "interpreter": {
   "hash": "aee8b7b246df8f9039afb4144a1f6fd8d2ca17a180786b69acc140d282b71a49"
  },
  "kernelspec": {
   "display_name": "Python 3.10.2 64-bit",
   "language": "python",
   "name": "python3"
  },
  "language_info": {
   "codemirror_mode": {
    "name": "ipython",
    "version": 3
   },
   "file_extension": ".py",
   "mimetype": "text/x-python",
   "name": "python",
   "nbconvert_exporter": "python",
   "pygments_lexer": "ipython3",
   "version": "3.10.1"
  },
  "orig_nbformat": 4
 },
 "nbformat": 4,
 "nbformat_minor": 2
}
